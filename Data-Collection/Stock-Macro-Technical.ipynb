{
  "cells": [
    {
      "cell_type": "code",
      "execution_count": 1,
      "metadata": {
        "id": "1CTRAfjV-6f4"
      },
      "outputs": [],
      "source": [
        "import requests\n",
        "import json\n",
        "import pandas as pd"
      ]
    },
    {
      "cell_type": "code",
      "execution_count": 2,
      "metadata": {
        "colab": {
          "base_uri": "https://localhost:8080/"
        },
        "id": "X5sZSKX8JR7K",
        "outputId": "aedfa97b-940b-49ad-eb0d-d1f91aabbcd7"
      },
      "outputs": [
        {
          "name": "stdout",
          "output_type": "stream",
          "text": [
            "{'CUUR0000SA0': 'CPI for All Urban Consumers (CPI-U) 1982-84=100 (Unadjusted)', 'CIU1010000000000A': 'Employment Cost Index (ECI) Civilian (Unadjusted)', 'LNS14000000': 'Unemployment Rate (Seasonally Adjusted)', 'PRS85006092': 'Output Per Hour - Non-farm Business Productivity'}\n"
          ]
        }
      ],
      "source": [
        "bls_codes = ['CUUR0000SA0','CIU1010000000000A', 'LNS14000000', 'PRS85006092']\n",
        "bls_indicator_names = ['CPI for All Urban Consumers (CPI-U) 1982-84=100 (Unadjusted)', \n",
        "                      'Employment Cost Index (ECI) Civilian (Unadjusted)',\n",
        "                      'Unemployment Rate (Seasonally Adjusted)',\n",
        "                      'Output Per Hour - Non-farm Business Productivity']\n",
        "bls = dict()\n",
        "for code, name in zip(bls_codes, bls_indicator_names):\n",
        "  bls[code] = name\n",
        "print(bls)"
      ]
    },
    {
      "cell_type": "code",
      "execution_count": 3,
      "metadata": {
        "id": "nSEVX54qgTKH"
      },
      "outputs": [],
      "source": [
        "headers = {'Content-type': 'application/json'}\n",
        "data = json.dumps({\"seriesid\": list(bls.keys()),\"startyear\":\"2018\", \"endyear\":\"2022\"})\n",
        "p = requests.post('https://api.bls.gov/publicAPI/v2/timeseries/data/', data=data, headers=headers)\n",
        "json_data = json.loads(p.text)"
      ]
    },
    {
      "cell_type": "code",
      "execution_count": 4,
      "metadata": {
        "id": "s2Fb2g5lLDLj"
      },
      "outputs": [
        {
          "data": {
            "text/plain": [
              "{'seriesID': 'CUUR0000SA0',\n",
              " 'data': [{'year': '2022',\n",
              "   'period': 'M09',\n",
              "   'periodName': 'September',\n",
              "   'latest': 'true',\n",
              "   'value': '296.808',\n",
              "   'footnotes': [{}]},\n",
              "  {'year': '2022',\n",
              "   'period': 'M08',\n",
              "   'periodName': 'August',\n",
              "   'value': '296.171',\n",
              "   'footnotes': [{}]},\n",
              "  {'year': '2022',\n",
              "   'period': 'M07',\n",
              "   'periodName': 'July',\n",
              "   'value': '296.276',\n",
              "   'footnotes': [{}]},\n",
              "  {'year': '2022',\n",
              "   'period': 'M06',\n",
              "   'periodName': 'June',\n",
              "   'value': '296.311',\n",
              "   'footnotes': [{}]},\n",
              "  {'year': '2022',\n",
              "   'period': 'M05',\n",
              "   'periodName': 'May',\n",
              "   'value': '292.296',\n",
              "   'footnotes': [{}]},\n",
              "  {'year': '2022',\n",
              "   'period': 'M04',\n",
              "   'periodName': 'April',\n",
              "   'value': '289.109',\n",
              "   'footnotes': [{}]},\n",
              "  {'year': '2022',\n",
              "   'period': 'M03',\n",
              "   'periodName': 'March',\n",
              "   'value': '287.504',\n",
              "   'footnotes': [{}]},\n",
              "  {'year': '2022',\n",
              "   'period': 'M02',\n",
              "   'periodName': 'February',\n",
              "   'value': '283.716',\n",
              "   'footnotes': [{}]},\n",
              "  {'year': '2022',\n",
              "   'period': 'M01',\n",
              "   'periodName': 'January',\n",
              "   'value': '281.148',\n",
              "   'footnotes': [{}]},\n",
              "  {'year': '2021',\n",
              "   'period': 'M12',\n",
              "   'periodName': 'December',\n",
              "   'value': '278.802',\n",
              "   'footnotes': [{}]},\n",
              "  {'year': '2021',\n",
              "   'period': 'M11',\n",
              "   'periodName': 'November',\n",
              "   'value': '277.948',\n",
              "   'footnotes': [{}]},\n",
              "  {'year': '2021',\n",
              "   'period': 'M10',\n",
              "   'periodName': 'October',\n",
              "   'value': '276.589',\n",
              "   'footnotes': [{}]},\n",
              "  {'year': '2021',\n",
              "   'period': 'M09',\n",
              "   'periodName': 'September',\n",
              "   'value': '274.310',\n",
              "   'footnotes': [{}]},\n",
              "  {'year': '2021',\n",
              "   'period': 'M08',\n",
              "   'periodName': 'August',\n",
              "   'value': '273.567',\n",
              "   'footnotes': [{}]},\n",
              "  {'year': '2021',\n",
              "   'period': 'M07',\n",
              "   'periodName': 'July',\n",
              "   'value': '273.003',\n",
              "   'footnotes': [{}]},\n",
              "  {'year': '2021',\n",
              "   'period': 'M06',\n",
              "   'periodName': 'June',\n",
              "   'value': '271.696',\n",
              "   'footnotes': [{}]},\n",
              "  {'year': '2021',\n",
              "   'period': 'M05',\n",
              "   'periodName': 'May',\n",
              "   'value': '269.195',\n",
              "   'footnotes': [{}]},\n",
              "  {'year': '2021',\n",
              "   'period': 'M04',\n",
              "   'periodName': 'April',\n",
              "   'value': '267.054',\n",
              "   'footnotes': [{}]},\n",
              "  {'year': '2021',\n",
              "   'period': 'M03',\n",
              "   'periodName': 'March',\n",
              "   'value': '264.877',\n",
              "   'footnotes': [{}]},\n",
              "  {'year': '2021',\n",
              "   'period': 'M02',\n",
              "   'periodName': 'February',\n",
              "   'value': '263.014',\n",
              "   'footnotes': [{}]},\n",
              "  {'year': '2021',\n",
              "   'period': 'M01',\n",
              "   'periodName': 'January',\n",
              "   'value': '261.582',\n",
              "   'footnotes': [{}]},\n",
              "  {'year': '2020',\n",
              "   'period': 'M12',\n",
              "   'periodName': 'December',\n",
              "   'value': '260.474',\n",
              "   'footnotes': [{}]},\n",
              "  {'year': '2020',\n",
              "   'period': 'M11',\n",
              "   'periodName': 'November',\n",
              "   'value': '260.229',\n",
              "   'footnotes': [{}]},\n",
              "  {'year': '2020',\n",
              "   'period': 'M10',\n",
              "   'periodName': 'October',\n",
              "   'value': '260.388',\n",
              "   'footnotes': [{}]},\n",
              "  {'year': '2020',\n",
              "   'period': 'M09',\n",
              "   'periodName': 'September',\n",
              "   'value': '260.280',\n",
              "   'footnotes': [{}]},\n",
              "  {'year': '2020',\n",
              "   'period': 'M08',\n",
              "   'periodName': 'August',\n",
              "   'value': '259.918',\n",
              "   'footnotes': [{}]},\n",
              "  {'year': '2020',\n",
              "   'period': 'M07',\n",
              "   'periodName': 'July',\n",
              "   'value': '259.101',\n",
              "   'footnotes': [{}]},\n",
              "  {'year': '2020',\n",
              "   'period': 'M06',\n",
              "   'periodName': 'June',\n",
              "   'value': '257.797',\n",
              "   'footnotes': [{}]},\n",
              "  {'year': '2020',\n",
              "   'period': 'M05',\n",
              "   'periodName': 'May',\n",
              "   'value': '256.394',\n",
              "   'footnotes': [{}]},\n",
              "  {'year': '2020',\n",
              "   'period': 'M04',\n",
              "   'periodName': 'April',\n",
              "   'value': '256.389',\n",
              "   'footnotes': [{}]},\n",
              "  {'year': '2020',\n",
              "   'period': 'M03',\n",
              "   'periodName': 'March',\n",
              "   'value': '258.115',\n",
              "   'footnotes': [{}]},\n",
              "  {'year': '2020',\n",
              "   'period': 'M02',\n",
              "   'periodName': 'February',\n",
              "   'value': '258.678',\n",
              "   'footnotes': [{}]},\n",
              "  {'year': '2020',\n",
              "   'period': 'M01',\n",
              "   'periodName': 'January',\n",
              "   'value': '257.971',\n",
              "   'footnotes': [{}]},\n",
              "  {'year': '2019',\n",
              "   'period': 'M12',\n",
              "   'periodName': 'December',\n",
              "   'value': '256.974',\n",
              "   'footnotes': [{}]},\n",
              "  {'year': '2019',\n",
              "   'period': 'M11',\n",
              "   'periodName': 'November',\n",
              "   'value': '257.208',\n",
              "   'footnotes': [{}]},\n",
              "  {'year': '2019',\n",
              "   'period': 'M10',\n",
              "   'periodName': 'October',\n",
              "   'value': '257.346',\n",
              "   'footnotes': [{}]},\n",
              "  {'year': '2019',\n",
              "   'period': 'M09',\n",
              "   'periodName': 'September',\n",
              "   'value': '256.759',\n",
              "   'footnotes': [{}]},\n",
              "  {'year': '2019',\n",
              "   'period': 'M08',\n",
              "   'periodName': 'August',\n",
              "   'value': '256.558',\n",
              "   'footnotes': [{}]},\n",
              "  {'year': '2019',\n",
              "   'period': 'M07',\n",
              "   'periodName': 'July',\n",
              "   'value': '256.571',\n",
              "   'footnotes': [{}]},\n",
              "  {'year': '2019',\n",
              "   'period': 'M06',\n",
              "   'periodName': 'June',\n",
              "   'value': '256.143',\n",
              "   'footnotes': [{}]},\n",
              "  {'year': '2019',\n",
              "   'period': 'M05',\n",
              "   'periodName': 'May',\n",
              "   'value': '256.092',\n",
              "   'footnotes': [{}]},\n",
              "  {'year': '2019',\n",
              "   'period': 'M04',\n",
              "   'periodName': 'April',\n",
              "   'value': '255.548',\n",
              "   'footnotes': [{}]},\n",
              "  {'year': '2019',\n",
              "   'period': 'M03',\n",
              "   'periodName': 'March',\n",
              "   'value': '254.202',\n",
              "   'footnotes': [{}]},\n",
              "  {'year': '2019',\n",
              "   'period': 'M02',\n",
              "   'periodName': 'February',\n",
              "   'value': '252.776',\n",
              "   'footnotes': [{}]},\n",
              "  {'year': '2019',\n",
              "   'period': 'M01',\n",
              "   'periodName': 'January',\n",
              "   'value': '251.712',\n",
              "   'footnotes': [{}]},\n",
              "  {'year': '2018',\n",
              "   'period': 'M12',\n",
              "   'periodName': 'December',\n",
              "   'value': '251.233',\n",
              "   'footnotes': [{}]},\n",
              "  {'year': '2018',\n",
              "   'period': 'M11',\n",
              "   'periodName': 'November',\n",
              "   'value': '252.038',\n",
              "   'footnotes': [{}]},\n",
              "  {'year': '2018',\n",
              "   'period': 'M10',\n",
              "   'periodName': 'October',\n",
              "   'value': '252.885',\n",
              "   'footnotes': [{}]},\n",
              "  {'year': '2018',\n",
              "   'period': 'M09',\n",
              "   'periodName': 'September',\n",
              "   'value': '252.439',\n",
              "   'footnotes': [{}]},\n",
              "  {'year': '2018',\n",
              "   'period': 'M08',\n",
              "   'periodName': 'August',\n",
              "   'value': '252.146',\n",
              "   'footnotes': [{}]},\n",
              "  {'year': '2018',\n",
              "   'period': 'M07',\n",
              "   'periodName': 'July',\n",
              "   'value': '252.006',\n",
              "   'footnotes': [{}]},\n",
              "  {'year': '2018',\n",
              "   'period': 'M06',\n",
              "   'periodName': 'June',\n",
              "   'value': '251.989',\n",
              "   'footnotes': [{}]},\n",
              "  {'year': '2018',\n",
              "   'period': 'M05',\n",
              "   'periodName': 'May',\n",
              "   'value': '251.588',\n",
              "   'footnotes': [{}]},\n",
              "  {'year': '2018',\n",
              "   'period': 'M04',\n",
              "   'periodName': 'April',\n",
              "   'value': '250.546',\n",
              "   'footnotes': [{}]},\n",
              "  {'year': '2018',\n",
              "   'period': 'M03',\n",
              "   'periodName': 'March',\n",
              "   'value': '249.554',\n",
              "   'footnotes': [{}]},\n",
              "  {'year': '2018',\n",
              "   'period': 'M02',\n",
              "   'periodName': 'February',\n",
              "   'value': '248.991',\n",
              "   'footnotes': [{}]},\n",
              "  {'year': '2018',\n",
              "   'period': 'M01',\n",
              "   'periodName': 'January',\n",
              "   'value': '247.867',\n",
              "   'footnotes': [{}]}]}"
            ]
          },
          "execution_count": 4,
          "metadata": {},
          "output_type": "execute_result"
        }
      ],
      "source": [
        "json_data['Results']['series'][0]"
      ]
    },
    {
      "cell_type": "code",
      "execution_count": 5,
      "metadata": {
        "colab": {
          "base_uri": "https://localhost:8080/"
        },
        "id": "N0TCABXtg-Oa",
        "outputId": "b145e9fc-0dfb-4c22-faf3-c1d1fa06bf87"
      },
      "outputs": [
        {
          "name": "stdout",
          "output_type": "stream",
          "text": [
            "CPI for All Urban Consumers (CPI-U) 1982-84=100 (Unadjusted): 57\n",
            "Employment Cost Index (ECI) Civilian (Unadjusted): 18\n",
            "Unemployment Rate (Seasonally Adjusted): 57\n",
            "Output Per Hour - Non-farm Business Productivity: 18\n"
          ]
        }
      ],
      "source": [
        "len(json_data['Results']['series'][0]['data'])\n",
        "for s in json_data['Results']['series']:\n",
        "  print(bls[s['seriesID']], ': ', len(s['data']), sep='')\n",
        "  # print(len(s['data']))"
      ]
    },
    {
      "cell_type": "markdown",
      "metadata": {
        "id": "-pfiexSsMmEf"
      },
      "source": [
        "CPI and Unemployment Rate are monthly, while Employment Cost Index and Output her hour are only quarterly"
      ]
    },
    {
      "cell_type": "markdown",
      "metadata": {
        "id": "x6UKsSqbISKr"
      },
      "source": [
        "# Consumer Price Index"
      ]
    },
    {
      "cell_type": "code",
      "execution_count": 6,
      "metadata": {
        "id": "DAYxUbJDhCwJ"
      },
      "outputs": [],
      "source": [
        "cpi = pd.DataFrame(json_data['Results']['series'][0]['data'])"
      ]
    },
    {
      "cell_type": "code",
      "execution_count": 7,
      "metadata": {
        "colab": {
          "base_uri": "https://localhost:8080/",
          "height": 206
        },
        "id": "jkaSCY_whOy-",
        "outputId": "01cdda95-1cb3-4734-9f2c-29d51a095b8d"
      },
      "outputs": [
        {
          "data": {
            "text/html": [
              "<div>\n",
              "<style scoped>\n",
              "    .dataframe tbody tr th:only-of-type {\n",
              "        vertical-align: middle;\n",
              "    }\n",
              "\n",
              "    .dataframe tbody tr th {\n",
              "        vertical-align: top;\n",
              "    }\n",
              "\n",
              "    .dataframe thead th {\n",
              "        text-align: right;\n",
              "    }\n",
              "</style>\n",
              "<table border=\"1\" class=\"dataframe\">\n",
              "  <thead>\n",
              "    <tr style=\"text-align: right;\">\n",
              "      <th></th>\n",
              "      <th>year</th>\n",
              "      <th>period</th>\n",
              "      <th>periodName</th>\n",
              "      <th>latest</th>\n",
              "      <th>value</th>\n",
              "      <th>footnotes</th>\n",
              "    </tr>\n",
              "  </thead>\n",
              "  <tbody>\n",
              "    <tr>\n",
              "      <th>0</th>\n",
              "      <td>2022</td>\n",
              "      <td>M09</td>\n",
              "      <td>September</td>\n",
              "      <td>true</td>\n",
              "      <td>296.808</td>\n",
              "      <td>[{}]</td>\n",
              "    </tr>\n",
              "    <tr>\n",
              "      <th>1</th>\n",
              "      <td>2022</td>\n",
              "      <td>M08</td>\n",
              "      <td>August</td>\n",
              "      <td>NaN</td>\n",
              "      <td>296.171</td>\n",
              "      <td>[{}]</td>\n",
              "    </tr>\n",
              "    <tr>\n",
              "      <th>2</th>\n",
              "      <td>2022</td>\n",
              "      <td>M07</td>\n",
              "      <td>July</td>\n",
              "      <td>NaN</td>\n",
              "      <td>296.276</td>\n",
              "      <td>[{}]</td>\n",
              "    </tr>\n",
              "    <tr>\n",
              "      <th>3</th>\n",
              "      <td>2022</td>\n",
              "      <td>M06</td>\n",
              "      <td>June</td>\n",
              "      <td>NaN</td>\n",
              "      <td>296.311</td>\n",
              "      <td>[{}]</td>\n",
              "    </tr>\n",
              "    <tr>\n",
              "      <th>4</th>\n",
              "      <td>2022</td>\n",
              "      <td>M05</td>\n",
              "      <td>May</td>\n",
              "      <td>NaN</td>\n",
              "      <td>292.296</td>\n",
              "      <td>[{}]</td>\n",
              "    </tr>\n",
              "  </tbody>\n",
              "</table>\n",
              "</div>"
            ],
            "text/plain": [
              "   year period periodName latest    value footnotes\n",
              "0  2022    M09  September   true  296.808      [{}]\n",
              "1  2022    M08     August    NaN  296.171      [{}]\n",
              "2  2022    M07       July    NaN  296.276      [{}]\n",
              "3  2022    M06       June    NaN  296.311      [{}]\n",
              "4  2022    M05        May    NaN  292.296      [{}]"
            ]
          },
          "execution_count": 7,
          "metadata": {},
          "output_type": "execute_result"
        }
      ],
      "source": [
        "cpi.head()"
      ]
    },
    {
      "cell_type": "code",
      "execution_count": 9,
      "metadata": {
        "id": "JVqUNc45HywN"
      },
      "outputs": [],
      "source": [
        "cpi.to_csv('../Data/Macro-Indicators/cpi.csv', index=False)"
      ]
    },
    {
      "cell_type": "markdown",
      "metadata": {
        "id": "0lDekJ0KIUG-"
      },
      "source": [
        "# Employment Cost Index"
      ]
    },
    {
      "cell_type": "code",
      "execution_count": 10,
      "metadata": {
        "id": "OyX1ccbShSn6"
      },
      "outputs": [],
      "source": [
        "eci = pd.DataFrame(json_data['Results']['series'][1]['data'])"
      ]
    },
    {
      "cell_type": "code",
      "execution_count": 11,
      "metadata": {
        "colab": {
          "base_uri": "https://localhost:8080/",
          "height": 206
        },
        "id": "DcSyzjdi_HQ0",
        "outputId": "04166d11-855c-42b5-be05-f43d2804ddf7"
      },
      "outputs": [
        {
          "data": {
            "text/html": [
              "<div>\n",
              "<style scoped>\n",
              "    .dataframe tbody tr th:only-of-type {\n",
              "        vertical-align: middle;\n",
              "    }\n",
              "\n",
              "    .dataframe tbody tr th {\n",
              "        vertical-align: top;\n",
              "    }\n",
              "\n",
              "    .dataframe thead th {\n",
              "        text-align: right;\n",
              "    }\n",
              "</style>\n",
              "<table border=\"1\" class=\"dataframe\">\n",
              "  <thead>\n",
              "    <tr style=\"text-align: right;\">\n",
              "      <th></th>\n",
              "      <th>year</th>\n",
              "      <th>period</th>\n",
              "      <th>periodName</th>\n",
              "      <th>latest</th>\n",
              "      <th>value</th>\n",
              "      <th>footnotes</th>\n",
              "    </tr>\n",
              "  </thead>\n",
              "  <tbody>\n",
              "    <tr>\n",
              "      <th>0</th>\n",
              "      <td>2022</td>\n",
              "      <td>Q02</td>\n",
              "      <td>2nd Quarter</td>\n",
              "      <td>true</td>\n",
              "      <td>5.1</td>\n",
              "      <td>[{}]</td>\n",
              "    </tr>\n",
              "    <tr>\n",
              "      <th>1</th>\n",
              "      <td>2022</td>\n",
              "      <td>Q01</td>\n",
              "      <td>1st Quarter</td>\n",
              "      <td>NaN</td>\n",
              "      <td>4.5</td>\n",
              "      <td>[{}]</td>\n",
              "    </tr>\n",
              "    <tr>\n",
              "      <th>2</th>\n",
              "      <td>2021</td>\n",
              "      <td>Q04</td>\n",
              "      <td>4th Quarter</td>\n",
              "      <td>NaN</td>\n",
              "      <td>4.0</td>\n",
              "      <td>[{}]</td>\n",
              "    </tr>\n",
              "    <tr>\n",
              "      <th>3</th>\n",
              "      <td>2021</td>\n",
              "      <td>Q03</td>\n",
              "      <td>3rd Quarter</td>\n",
              "      <td>NaN</td>\n",
              "      <td>3.7</td>\n",
              "      <td>[{}]</td>\n",
              "    </tr>\n",
              "    <tr>\n",
              "      <th>4</th>\n",
              "      <td>2021</td>\n",
              "      <td>Q02</td>\n",
              "      <td>2nd Quarter</td>\n",
              "      <td>NaN</td>\n",
              "      <td>2.9</td>\n",
              "      <td>[{}]</td>\n",
              "    </tr>\n",
              "  </tbody>\n",
              "</table>\n",
              "</div>"
            ],
            "text/plain": [
              "   year period   periodName latest value footnotes\n",
              "0  2022    Q02  2nd Quarter   true   5.1      [{}]\n",
              "1  2022    Q01  1st Quarter    NaN   4.5      [{}]\n",
              "2  2021    Q04  4th Quarter    NaN   4.0      [{}]\n",
              "3  2021    Q03  3rd Quarter    NaN   3.7      [{}]\n",
              "4  2021    Q02  2nd Quarter    NaN   2.9      [{}]"
            ]
          },
          "execution_count": 11,
          "metadata": {},
          "output_type": "execute_result"
        }
      ],
      "source": [
        "eci.head()"
      ]
    },
    {
      "cell_type": "code",
      "execution_count": 12,
      "metadata": {
        "colab": {
          "base_uri": "https://localhost:8080/",
          "height": 363
        },
        "id": "QfUNN3ke_Ilf",
        "outputId": "298ceef0-2d32-4012-c3ba-bcd4efe34f7a"
      },
      "outputs": [
        {
          "data": {
            "text/html": [
              "<div>\n",
              "<style scoped>\n",
              "    .dataframe tbody tr th:only-of-type {\n",
              "        vertical-align: middle;\n",
              "    }\n",
              "\n",
              "    .dataframe tbody tr th {\n",
              "        vertical-align: top;\n",
              "    }\n",
              "\n",
              "    .dataframe thead th {\n",
              "        text-align: right;\n",
              "    }\n",
              "</style>\n",
              "<table border=\"1\" class=\"dataframe\">\n",
              "  <thead>\n",
              "    <tr style=\"text-align: right;\">\n",
              "      <th></th>\n",
              "      <th>year</th>\n",
              "      <th>period</th>\n",
              "      <th>periodName</th>\n",
              "      <th>latest</th>\n",
              "      <th>value</th>\n",
              "      <th>footnotes</th>\n",
              "    </tr>\n",
              "  </thead>\n",
              "  <tbody>\n",
              "    <tr>\n",
              "      <th>0</th>\n",
              "      <td>2022</td>\n",
              "      <td>Q02</td>\n",
              "      <td>2nd Quarter</td>\n",
              "      <td>true</td>\n",
              "      <td>5.1</td>\n",
              "      <td>[{}]</td>\n",
              "    </tr>\n",
              "    <tr>\n",
              "      <th>1</th>\n",
              "      <td>2022</td>\n",
              "      <td>Q01</td>\n",
              "      <td>1st Quarter</td>\n",
              "      <td>NaN</td>\n",
              "      <td>4.5</td>\n",
              "      <td>[{}]</td>\n",
              "    </tr>\n",
              "    <tr>\n",
              "      <th>2</th>\n",
              "      <td>2021</td>\n",
              "      <td>Q04</td>\n",
              "      <td>4th Quarter</td>\n",
              "      <td>NaN</td>\n",
              "      <td>4.0</td>\n",
              "      <td>[{}]</td>\n",
              "    </tr>\n",
              "    <tr>\n",
              "      <th>3</th>\n",
              "      <td>2021</td>\n",
              "      <td>Q03</td>\n",
              "      <td>3rd Quarter</td>\n",
              "      <td>NaN</td>\n",
              "      <td>3.7</td>\n",
              "      <td>[{}]</td>\n",
              "    </tr>\n",
              "    <tr>\n",
              "      <th>4</th>\n",
              "      <td>2021</td>\n",
              "      <td>Q02</td>\n",
              "      <td>2nd Quarter</td>\n",
              "      <td>NaN</td>\n",
              "      <td>2.9</td>\n",
              "      <td>[{}]</td>\n",
              "    </tr>\n",
              "    <tr>\n",
              "      <th>5</th>\n",
              "      <td>2021</td>\n",
              "      <td>Q01</td>\n",
              "      <td>1st Quarter</td>\n",
              "      <td>NaN</td>\n",
              "      <td>2.6</td>\n",
              "      <td>[{}]</td>\n",
              "    </tr>\n",
              "    <tr>\n",
              "      <th>6</th>\n",
              "      <td>2020</td>\n",
              "      <td>Q04</td>\n",
              "      <td>4th Quarter</td>\n",
              "      <td>NaN</td>\n",
              "      <td>2.5</td>\n",
              "      <td>[{}]</td>\n",
              "    </tr>\n",
              "    <tr>\n",
              "      <th>7</th>\n",
              "      <td>2020</td>\n",
              "      <td>Q03</td>\n",
              "      <td>3rd Quarter</td>\n",
              "      <td>NaN</td>\n",
              "      <td>2.4</td>\n",
              "      <td>[{}]</td>\n",
              "    </tr>\n",
              "    <tr>\n",
              "      <th>8</th>\n",
              "      <td>2020</td>\n",
              "      <td>Q02</td>\n",
              "      <td>2nd Quarter</td>\n",
              "      <td>NaN</td>\n",
              "      <td>2.7</td>\n",
              "      <td>[{}]</td>\n",
              "    </tr>\n",
              "    <tr>\n",
              "      <th>9</th>\n",
              "      <td>2020</td>\n",
              "      <td>Q01</td>\n",
              "      <td>1st Quarter</td>\n",
              "      <td>NaN</td>\n",
              "      <td>2.8</td>\n",
              "      <td>[{}]</td>\n",
              "    </tr>\n",
              "  </tbody>\n",
              "</table>\n",
              "</div>"
            ],
            "text/plain": [
              "   year period   periodName latest value footnotes\n",
              "0  2022    Q02  2nd Quarter   true   5.1      [{}]\n",
              "1  2022    Q01  1st Quarter    NaN   4.5      [{}]\n",
              "2  2021    Q04  4th Quarter    NaN   4.0      [{}]\n",
              "3  2021    Q03  3rd Quarter    NaN   3.7      [{}]\n",
              "4  2021    Q02  2nd Quarter    NaN   2.9      [{}]\n",
              "5  2021    Q01  1st Quarter    NaN   2.6      [{}]\n",
              "6  2020    Q04  4th Quarter    NaN   2.5      [{}]\n",
              "7  2020    Q03  3rd Quarter    NaN   2.4      [{}]\n",
              "8  2020    Q02  2nd Quarter    NaN   2.7      [{}]\n",
              "9  2020    Q01  1st Quarter    NaN   2.8      [{}]"
            ]
          },
          "execution_count": 12,
          "metadata": {},
          "output_type": "execute_result"
        }
      ],
      "source": [
        "eci[:10]"
      ]
    },
    {
      "cell_type": "code",
      "execution_count": 13,
      "metadata": {
        "id": "sZeBmUIcH9ZF"
      },
      "outputs": [],
      "source": [
        "eci.to_csv('../Data/Macro-Indicators/eci.csv', index=False)"
      ]
    },
    {
      "cell_type": "markdown",
      "metadata": {
        "id": "rBOpETCMMcUo"
      },
      "source": [
        "# Unemployment Rate"
      ]
    },
    {
      "cell_type": "code",
      "execution_count": 14,
      "metadata": {
        "id": "6lrf7_R3I8C1"
      },
      "outputs": [],
      "source": [
        "uer = pd.DataFrame(json_data['Results']['series'][2]['data'])"
      ]
    },
    {
      "cell_type": "code",
      "execution_count": 15,
      "metadata": {
        "colab": {
          "base_uri": "https://localhost:8080/",
          "height": 206
        },
        "id": "mVxscDGgMhwu",
        "outputId": "4bcbbf09-8149-42f8-de19-2fb4e2adf035"
      },
      "outputs": [
        {
          "data": {
            "text/html": [
              "<div>\n",
              "<style scoped>\n",
              "    .dataframe tbody tr th:only-of-type {\n",
              "        vertical-align: middle;\n",
              "    }\n",
              "\n",
              "    .dataframe tbody tr th {\n",
              "        vertical-align: top;\n",
              "    }\n",
              "\n",
              "    .dataframe thead th {\n",
              "        text-align: right;\n",
              "    }\n",
              "</style>\n",
              "<table border=\"1\" class=\"dataframe\">\n",
              "  <thead>\n",
              "    <tr style=\"text-align: right;\">\n",
              "      <th></th>\n",
              "      <th>year</th>\n",
              "      <th>period</th>\n",
              "      <th>periodName</th>\n",
              "      <th>latest</th>\n",
              "      <th>value</th>\n",
              "      <th>footnotes</th>\n",
              "    </tr>\n",
              "  </thead>\n",
              "  <tbody>\n",
              "    <tr>\n",
              "      <th>0</th>\n",
              "      <td>2022</td>\n",
              "      <td>M09</td>\n",
              "      <td>September</td>\n",
              "      <td>true</td>\n",
              "      <td>3.5</td>\n",
              "      <td>[{}]</td>\n",
              "    </tr>\n",
              "    <tr>\n",
              "      <th>1</th>\n",
              "      <td>2022</td>\n",
              "      <td>M08</td>\n",
              "      <td>August</td>\n",
              "      <td>NaN</td>\n",
              "      <td>3.7</td>\n",
              "      <td>[{}]</td>\n",
              "    </tr>\n",
              "    <tr>\n",
              "      <th>2</th>\n",
              "      <td>2022</td>\n",
              "      <td>M07</td>\n",
              "      <td>July</td>\n",
              "      <td>NaN</td>\n",
              "      <td>3.5</td>\n",
              "      <td>[{}]</td>\n",
              "    </tr>\n",
              "    <tr>\n",
              "      <th>3</th>\n",
              "      <td>2022</td>\n",
              "      <td>M06</td>\n",
              "      <td>June</td>\n",
              "      <td>NaN</td>\n",
              "      <td>3.6</td>\n",
              "      <td>[{}]</td>\n",
              "    </tr>\n",
              "    <tr>\n",
              "      <th>4</th>\n",
              "      <td>2022</td>\n",
              "      <td>M05</td>\n",
              "      <td>May</td>\n",
              "      <td>NaN</td>\n",
              "      <td>3.6</td>\n",
              "      <td>[{}]</td>\n",
              "    </tr>\n",
              "  </tbody>\n",
              "</table>\n",
              "</div>"
            ],
            "text/plain": [
              "   year period periodName latest value footnotes\n",
              "0  2022    M09  September   true   3.5      [{}]\n",
              "1  2022    M08     August    NaN   3.7      [{}]\n",
              "2  2022    M07       July    NaN   3.5      [{}]\n",
              "3  2022    M06       June    NaN   3.6      [{}]\n",
              "4  2022    M05        May    NaN   3.6      [{}]"
            ]
          },
          "execution_count": 15,
          "metadata": {},
          "output_type": "execute_result"
        }
      ],
      "source": [
        "uer.head()"
      ]
    },
    {
      "cell_type": "code",
      "execution_count": 16,
      "metadata": {
        "id": "Yc7rV794Mich"
      },
      "outputs": [],
      "source": [
        "uer.to_csv('../Data/Macro-Indicators/uer.csv', index=False)"
      ]
    },
    {
      "cell_type": "markdown",
      "metadata": {
        "id": "KvxdlInWM5PG"
      },
      "source": [
        "# Output per hour"
      ]
    },
    {
      "cell_type": "code",
      "execution_count": 17,
      "metadata": {
        "id": "RQZR15KxMvuP"
      },
      "outputs": [],
      "source": [
        "oph = pd.DataFrame(json_data['Results']['series'][3]['data'])"
      ]
    },
    {
      "cell_type": "code",
      "execution_count": 18,
      "metadata": {
        "colab": {
          "base_uri": "https://localhost:8080/",
          "height": 206
        },
        "id": "ghhPImErM9Jg",
        "outputId": "1376e562-c8e9-4001-8593-63525e8ebbf4"
      },
      "outputs": [
        {
          "data": {
            "text/html": [
              "<div>\n",
              "<style scoped>\n",
              "    .dataframe tbody tr th:only-of-type {\n",
              "        vertical-align: middle;\n",
              "    }\n",
              "\n",
              "    .dataframe tbody tr th {\n",
              "        vertical-align: top;\n",
              "    }\n",
              "\n",
              "    .dataframe thead th {\n",
              "        text-align: right;\n",
              "    }\n",
              "</style>\n",
              "<table border=\"1\" class=\"dataframe\">\n",
              "  <thead>\n",
              "    <tr style=\"text-align: right;\">\n",
              "      <th></th>\n",
              "      <th>year</th>\n",
              "      <th>period</th>\n",
              "      <th>periodName</th>\n",
              "      <th>latest</th>\n",
              "      <th>value</th>\n",
              "      <th>footnotes</th>\n",
              "    </tr>\n",
              "  </thead>\n",
              "  <tbody>\n",
              "    <tr>\n",
              "      <th>0</th>\n",
              "      <td>2022</td>\n",
              "      <td>Q02</td>\n",
              "      <td>2nd Quarter</td>\n",
              "      <td>true</td>\n",
              "      <td>-4.1</td>\n",
              "      <td>[{'code': 'R', 'text': 'revised'}]</td>\n",
              "    </tr>\n",
              "    <tr>\n",
              "      <th>1</th>\n",
              "      <td>2022</td>\n",
              "      <td>Q01</td>\n",
              "      <td>1st Quarter</td>\n",
              "      <td>NaN</td>\n",
              "      <td>-7.4</td>\n",
              "      <td>[{}]</td>\n",
              "    </tr>\n",
              "    <tr>\n",
              "      <th>2</th>\n",
              "      <td>2021</td>\n",
              "      <td>Q04</td>\n",
              "      <td>4th Quarter</td>\n",
              "      <td>NaN</td>\n",
              "      <td>6.3</td>\n",
              "      <td>[{}]</td>\n",
              "    </tr>\n",
              "    <tr>\n",
              "      <th>3</th>\n",
              "      <td>2021</td>\n",
              "      <td>Q03</td>\n",
              "      <td>3rd Quarter</td>\n",
              "      <td>NaN</td>\n",
              "      <td>-3.9</td>\n",
              "      <td>[{}]</td>\n",
              "    </tr>\n",
              "    <tr>\n",
              "      <th>4</th>\n",
              "      <td>2021</td>\n",
              "      <td>Q02</td>\n",
              "      <td>2nd Quarter</td>\n",
              "      <td>NaN</td>\n",
              "      <td>3.2</td>\n",
              "      <td>[{}]</td>\n",
              "    </tr>\n",
              "  </tbody>\n",
              "</table>\n",
              "</div>"
            ],
            "text/plain": [
              "   year period   periodName latest value                           footnotes\n",
              "0  2022    Q02  2nd Quarter   true  -4.1  [{'code': 'R', 'text': 'revised'}]\n",
              "1  2022    Q01  1st Quarter    NaN  -7.4                                [{}]\n",
              "2  2021    Q04  4th Quarter    NaN   6.3                                [{}]\n",
              "3  2021    Q03  3rd Quarter    NaN  -3.9                                [{}]\n",
              "4  2021    Q02  2nd Quarter    NaN   3.2                                [{}]"
            ]
          },
          "execution_count": 18,
          "metadata": {},
          "output_type": "execute_result"
        }
      ],
      "source": [
        "oph.head()"
      ]
    },
    {
      "cell_type": "code",
      "execution_count": 19,
      "metadata": {
        "id": "5uwdejMLM9rl"
      },
      "outputs": [],
      "source": [
        "oph.to_csv('../Data/Macro-Indicators/oph.csv', index=False)"
      ]
    }
  ],
  "metadata": {
    "colab": {
      "collapsed_sections": [],
      "provenance": []
    },
    "kernelspec": {
      "display_name": "Python 3.9.6 64-bit ('3.9.6')",
      "language": "python",
      "name": "python3"
    },
    "language_info": {
      "codemirror_mode": {
        "name": "ipython",
        "version": 3
      },
      "file_extension": ".py",
      "mimetype": "text/x-python",
      "name": "python",
      "nbconvert_exporter": "python",
      "pygments_lexer": "ipython3",
      "version": "3.9.6"
    },
    "vscode": {
      "interpreter": {
        "hash": "b6d02d92f30c3afccc504c0af6ec862fbbb99c882594c9ef1e8923a1750355a8"
      }
    }
  },
  "nbformat": 4,
  "nbformat_minor": 0
}
