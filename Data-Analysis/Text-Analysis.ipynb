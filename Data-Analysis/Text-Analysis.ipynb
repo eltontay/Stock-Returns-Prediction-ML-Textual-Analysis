{
 "cells": [
  {
   "cell_type": "code",
   "execution_count": null,
   "metadata": {},
   "outputs": [],
   "source": [
    "import pandas as pd\n",
    "import numpy as np\n",
    "import matplotlib"
   ]
  },
  {
   "cell_type": "code",
   "execution_count": null,
   "metadata": {},
   "outputs": [],
   "source": [
    "vader_all= pd.read_csv('../Data-Processed/all_vader.csv')\n",
    "vader_all = vader_all.replace(np.nan,0)\n",
    "vader_all.head(5).append(vader_all.tail(5))"
   ]
  },
  {
   "cell_type": "code",
   "execution_count": null,
   "metadata": {},
   "outputs": [],
   "source": [
    "vader_all.plot(figsize=(16,9),subplots=True)"
   ]
  },
  {
   "cell_type": "code",
   "execution_count": null,
   "metadata": {},
   "outputs": [],
   "source": [
    "flair_all= pd.read_csv('../Data-Processed/all_flair.csv')\n",
    "flair_all = flair_all.replace(np.nan,0)\n",
    "flair_all.head(5).append(flair_all.tail(5))"
   ]
  },
  {
   "cell_type": "code",
   "execution_count": null,
   "metadata": {},
   "outputs": [],
   "source": [
    "flair_all.plot(figsize=(16,9),subplots=True)"
   ]
  },
  {
   "cell_type": "code",
   "execution_count": null,
   "metadata": {},
   "outputs": [],
   "source": [
    "finbert_all= pd.read_csv('../Data-Processed/all_finbert.csv')\n",
    "finbert_all = finbert_all.replace(np.nan,0)\n",
    "finbert_all.head(5).append(finbert_all.tail(5))"
   ]
  },
  {
   "cell_type": "code",
   "execution_count": null,
   "metadata": {},
   "outputs": [],
   "source": [
    "finbert_all.plot(figsize=(16,9),subplots=True)"
   ]
  },
  {
   "cell_type": "markdown",
   "metadata": {},
   "source": [
    "This part refactors the dataframe for random forest classifier to predict upwards or downwards trend"
   ]
  },
  {
   "cell_type": "code",
   "execution_count": null,
   "metadata": {},
   "outputs": [],
   "source": [
    "vader_class = vader_all.copy()\n",
    "\n",
    "vader_class.loc[vader_class['AAPL'] > 0, 'AAPL'] = 1\n",
    "vader_class.loc[vader_class['AAPL'] < 0, 'AAPL'] = -1\n",
    "vader_class.loc[vader_class['META'] > 0, 'META'] = 1\n",
    "vader_class.loc[vader_class['META'] < 0, 'META'] = -1\n",
    "vader_class.loc[vader_class['TSLA'] > 0, 'TSLA'] = 1\n",
    "vader_class.loc[vader_class['TSLA'] < 0, 'TSLA'] = -1\n",
    "vader_class.loc[vader_class['World'] > 0, 'World'] = 1\n",
    "vader_class.loc[vader_class['World'] < 0, 'World'] = -1\n",
    "vader_class.loc[vader_class['Politics'] > 0, 'Politics'] = 1\n",
    "vader_class.loc[vader_class['Politics'] < 0, 'Politics'] = -1\n",
    "vader_class.loc[vader_class['Coronavirus'] > 0, 'Coronavirus'] = 1\n",
    "vader_class.loc[vader_class['Coronavirus'] < 0, 'Coronavirus'] = -1\n",
    "vader_class.iloc[:,1:] = vader_class.iloc[:,1:].astype(int)\n",
    "vader_class"
   ]
  },
  {
   "cell_type": "code",
   "execution_count": null,
   "metadata": {},
   "outputs": [],
   "source": [
    "flair_class = flair_all.copy()\n",
    "\n",
    "flair_class.loc[flair_class['AAPL'] > 0, 'AAPL'] = 1\n",
    "flair_class.loc[flair_class['AAPL'] < 0, 'AAPL'] = -1\n",
    "flair_class.loc[flair_class['META'] > 0, 'META'] = 1\n",
    "flair_class.loc[flair_class['META'] < 0, 'META'] = -1\n",
    "flair_class.loc[flair_class['TSLA'] > 0, 'TSLA'] = 1\n",
    "flair_class.loc[flair_class['TSLA'] < 0, 'TSLA'] = -1\n",
    "flair_class.loc[flair_class['World'] > 0, 'World'] = 1\n",
    "flair_class.loc[flair_class['World'] < 0, 'World'] = -1\n",
    "flair_class.loc[flair_class['Politics'] > 0, 'Politics'] = 1\n",
    "flair_class.loc[flair_class['Politics'] < 0, 'Politics'] = -1\n",
    "flair_class.loc[flair_class['Coronavirus'] > 0, 'Coronavirus'] = 1\n",
    "flair_class.loc[flair_class['Coronavirus'] < 0, 'Coronavirus'] = -1\n",
    "flair_class.iloc[:,1:] = flair_class.iloc[:,1:].astype(int)\n",
    "flair_class"
   ]
  },
  {
   "cell_type": "code",
   "execution_count": null,
   "metadata": {},
   "outputs": [],
   "source": [
    "finbert_class = finbert_all.copy()\n",
    "\n",
    "finbert_class.loc[finbert_class['AAPL'] > 0, 'AAPL'] = 1\n",
    "finbert_class.loc[finbert_class['AAPL'] < 0, 'AAPL'] = -1\n",
    "finbert_class.loc[finbert_class['META'] > 0, 'META'] = 1\n",
    "finbert_class.loc[finbert_class['META'] < 0, 'META'] = -1\n",
    "finbert_class.loc[finbert_class['TSLA'] > 0, 'TSLA'] = 1\n",
    "finbert_class.loc[finbert_class['TSLA'] < 0, 'TSLA'] = -1\n",
    "finbert_class.loc[finbert_class['World'] > 0, 'World'] = 1\n",
    "finbert_class.loc[finbert_class['World'] < 0, 'World'] = -1\n",
    "finbert_class.loc[finbert_class['Politics'] > 0, 'Politics'] = 1\n",
    "finbert_class.loc[finbert_class['Politics'] < 0, 'Politics'] = -1\n",
    "finbert_class.loc[finbert_class['Coronavirus'] > 0, 'Coronavirus'] = 1\n",
    "finbert_class.loc[finbert_class['Coronavirus'] < 0, 'Coronavirus'] = -1\n",
    "finbert_class.iloc[:,1:] = finbert_class.iloc[:,1:].astype(int)\n",
    "finbert_class"
   ]
  },
  {
   "cell_type": "markdown",
   "metadata": {},
   "source": [
    "Calculating stock price and returns"
   ]
  },
  {
   "cell_type": "code",
   "execution_count": null,
   "metadata": {},
   "outputs": [],
   "source": [
    "from pandas_datareader import data\n",
    "import matplotlib.pyplot as plt\n",
    "import pandas as pd"
   ]
  },
  {
   "cell_type": "code",
   "execution_count": null,
   "metadata": {},
   "outputs": [],
   "source": [
    "# Define the instruments to download. We would like to see Apple, Microsoft and the S&P500 index.\n",
    "tickers = ['AAPL', 'META', 'TSLA']\n",
    "\n",
    "# We would like all available data from 01/01/2000 until 12/31/2016.\n",
    "start_date = '2018-01-31'\n",
    "end_date = '2022-08-31'\n",
    "\n",
    "# User pandas_reader.data.DataReader to load the desired data. As simple as that.\n",
    "panel_data = data.DataReader(tickers, 'yahoo', start_date, end_date)"
   ]
  },
  {
   "cell_type": "code",
   "execution_count": null,
   "metadata": {},
   "outputs": [],
   "source": [
    "stock_df = pd.DataFrame(panel_data)\n",
    "print(stock_df.head())\n",
    "print(stock_df.shape)"
   ]
  },
  {
   "cell_type": "code",
   "execution_count": null,
   "metadata": {},
   "outputs": [],
   "source": [
    "def getReturns(closingPrices):\n",
    "      return closingPrices.diff()[1:].div(closingPrices[:-1])"
   ]
  },
  {
   "cell_type": "markdown",
   "metadata": {},
   "source": [
    "Reindexing dates to ensure same number of rows by having it on weekdays (trading days)"
   ]
  },
  {
   "cell_type": "code",
   "execution_count": null,
   "metadata": {},
   "outputs": [],
   "source": [
    "weekdays = pd.bdate_range(start=start_date, end=end_date)\n",
    "\n",
    "vader_all['Date'] = pd.to_datetime(vader_all['Date'])\n",
    "vader_all_w = vader_all[vader_all['Date'].isin(weekdays)]\n",
    "vader_all_w = vader_all_w.fillna(method='ffill')\n",
    "print('vader regress shape ', vader_all_w.shape)\n",
    "\n",
    "flair_all['Date'] = pd.to_datetime(flair_all['Date'])\n",
    "flair_all_w = flair_all[flair_all['Date'].isin(weekdays)]\n",
    "flair_all_w = flair_all_w.fillna(method='ffill')\n",
    "print('flair regress shape ', flair_all_w.shape)\n",
    "\n",
    "finbert_all['Date'] = pd.to_datetime(finbert_all['Date'])\n",
    "finbert_all_w = finbert_all[finbert_all['Date'].isin(weekdays)]\n",
    "finbert_all_w = finbert_all_w.fillna(method='ffill')\n",
    "print('flair regress shape ', finbert_all_w.shape)\n",
    "\n",
    "vader_class['Date'] = pd.to_datetime(vader_class['Date'])\n",
    "vader_class_w = vader_class[vader_class['Date'].isin(weekdays)]\n",
    "vader_class_w = vader_class_w.fillna(method='ffill')\n",
    "print('vader class shape ', vader_class_w.shape)\n",
    "\n",
    "flair_class['Date'] = pd.to_datetime(flair_class['Date'])\n",
    "flair_class_w = flair_class[flair_class['Date'].isin(weekdays)]\n",
    "flair_class_w = flair_class_w.fillna(method='ffill')\n",
    "print('flair class shape ', flair_class_w.shape)\n",
    "\n",
    "finbert_class['Date'] = pd.to_datetime(finbert_class['Date'])\n",
    "finbert_class_w = finbert_class[finbert_class['Date'].isin(weekdays)]\n",
    "finbert_class_w = finbert_class_w.fillna(method='ffill')\n",
    "print('finbert class shape ', finbert_class_w.shape)\n",
    "\n",
    "close = panel_data['Close']\n",
    "close = close.reindex(weekdays)\n",
    "close = close.fillna(method='ffill')\n",
    "print('close ', close.shape)\n",
    "\n",
    "returns = getReturns(close)\n",
    "returns = returns.reindex(weekdays)\n",
    "returns = returns.fillna(method='ffill')\n",
    "print('returns ', returns.shape)"
   ]
  },
  {
   "cell_type": "code",
   "execution_count": null,
   "metadata": {},
   "outputs": [],
   "source": [
    "close"
   ]
  },
  {
   "cell_type": "code",
   "execution_count": null,
   "metadata": {},
   "outputs": [],
   "source": [
    "# 1 if close.iloc[1][1] <= close.iloc[2][1] else -1\n",
    "len(close)"
   ]
  },
  {
   "cell_type": "code",
   "execution_count": null,
   "metadata": {},
   "outputs": [],
   "source": [
    "up_down = close.copy()\n",
    "for i in range(1,len(up_down)) :\n",
    "    up_down.iloc[i][0] = 1 if close.iloc[i-1][0] <= close.iloc[i][0] else -1 \n",
    "    up_down.iloc[i][1] = 1 if close.iloc[i-1][1] <= close.iloc[i][1] else -1\n",
    "    up_down.iloc[i][2] = 1 if close.iloc[i-1][2] <= close.iloc[i][2]  else -1\n",
    "up_down = up_down.iloc[1:]\n",
    "up_down"
   ]
  },
  {
   "cell_type": "markdown",
   "metadata": {},
   "source": [
    "Visualisation of stock closing prices"
   ]
  },
  {
   "cell_type": "code",
   "execution_count": null,
   "metadata": {},
   "outputs": [],
   "source": [
    "# Get timeseries. This now returns a Pandas Series object indexed by date.\n",
    "aapl = close.loc[:, 'AAPL']\n",
    "meta = close.loc[:, 'META']\n",
    "tsla = close.loc[:, 'TSLA']\n",
    "\n",
    "fig, ax = plt.subplots(figsize=(16,9))\n",
    "\n",
    "ax.plot(aapl.index, aapl, label='AAPL')\n",
    "ax.plot(meta.index, meta, label='META')\n",
    "ax.plot(tsla.index, tsla, label='TSLA')\n",
    "\n",
    "ax.set_xlabel('Date')\n",
    "ax.set_ylabel('Adjusted closing price ($)')\n",
    "ax.legend()"
   ]
  },
  {
   "cell_type": "markdown",
   "metadata": {},
   "source": [
    "Visualisation of stock returns"
   ]
  },
  {
   "cell_type": "code",
   "execution_count": null,
   "metadata": {},
   "outputs": [],
   "source": [
    "returns.plot(figsize=(20,7),subplots=True)"
   ]
  },
  {
   "cell_type": "code",
   "execution_count": null,
   "metadata": {},
   "outputs": [],
   "source": [
    "# rf regressor for returns\n",
    "\n",
    "from sklearn.model_selection import cross_val_score\n",
    "from sklearn.pipeline import make_pipeline\n",
    "from sklearn.preprocessing import StandardScaler\n",
    "from sklearn.svm import SVC\n",
    "from sklearn.ensemble import RandomForestRegressor\n",
    "from sklearn.model_selection import KFold\n",
    "from sklearn.model_selection import train_test_split\n",
    "\n",
    "def rf_r_returns(t_model,csv_name) : \n",
    "\n",
    "    df_train = pd.DataFrame(t_model.iloc[1:1016,0],columns=['Date'])\n",
    "    df_test = pd.DataFrame(t_model.iloc[1016:,0],columns=['Date']) \n",
    "\n",
    "    for i in range(3) : \n",
    "        X_train, X_test, y_train, y_test = train_test_split(t_model.iloc[1:,1:],returns.iloc[1:,i],test_size=0.15)\n",
    "\n",
    "        scalar = StandardScaler()\n",
    "        X_train_s = scalar.fit_transform(X_train)\n",
    "        X_test_s = scalar.transform(X_test)\n",
    "\n",
    "        model = RandomForestRegressor(n_estimators=100,random_state=42)\n",
    "        model.fit(X_train_s,y_train)\n",
    "        train_pred = model.predict(X_train_s)\n",
    "        test_pred = model.predict(X_test_s)\n",
    "\n",
    "        df_train[tickers[i]] = train_pred\n",
    "        df_test[tickers[i]] = test_pred \n",
    "\n",
    "        print(\"train R-squared score : {}\".format(model.score(X_train_s,y_train)))\n",
    "        print(\"test R-squared score : {}\".format(model.score(X_test_s,y_test)))\n",
    "\n",
    "        xtrain = t_model.iloc[1:1016,0]\n",
    "        ytrain = train_pred\n",
    "        xtest = t_model.iloc[1016:,0]\n",
    "        ytest = test_pred \n",
    "        xstock = t_model.iloc[1:,0]\n",
    "        ystock = returns.iloc[1:,1]\n",
    "\n",
    "        plt.plot(xstock,ystock,'lightgray',xtrain,ytrain,'blue',xtest,ytest,'orange')\n",
    "        plt.legend([tickers[i],\"Train\",\"Test\"])\n",
    "        plt.show()  \n",
    "    print('--- Saving predictions into csv ---')\n",
    "    df_train.to_csv('../Data-Predictions/returns/{}_rfr_train.csv'.format(csv_name),index=False)\n",
    "    df_test.to_csv('../Data-Predictions/returns/{}_rfr_test.csv'.format(csv_name),index=False) \n",
    "    print('--- Predictions saved ---') "
   ]
  },
  {
   "cell_type": "code",
   "execution_count": null,
   "metadata": {},
   "outputs": [],
   "source": [
    "# rf regressor for closing price\n",
    "\n",
    "from sklearn.model_selection import cross_val_score\n",
    "from sklearn.pipeline import make_pipeline\n",
    "from sklearn.preprocessing import StandardScaler\n",
    "from sklearn.svm import SVC\n",
    "from sklearn.ensemble import RandomForestRegressor\n",
    "from sklearn.model_selection import KFold\n",
    "from sklearn.model_selection import train_test_split\n",
    "\n",
    "def rf_r_close(t_model,csv_name) : \n",
    "\n",
    "    df_train = pd.DataFrame(t_model.iloc[1:1016,0],columns=['Date'])\n",
    "    df_test = pd.DataFrame(t_model.iloc[1016:,0],columns=['Date']) \n",
    "\n",
    "    for i in range(3) : \n",
    "        X_train, X_test, y_train, y_test = train_test_split(t_model.iloc[1:,1:],close.iloc[1:,i],test_size=0.15)\n",
    "\n",
    "        scalar = StandardScaler()\n",
    "        X_train_s = scalar.fit_transform(X_train)\n",
    "        X_test_s = scalar.transform(X_test)\n",
    "\n",
    "        model = RandomForestRegressor(n_estimators=100,random_state=42)\n",
    "        model.fit(X_train_s,y_train)\n",
    "        train_pred = model.predict(X_train_s)\n",
    "        test_pred = model.predict(X_test_s)\n",
    "\n",
    "        df_train[tickers[i]] = train_pred\n",
    "        df_test[tickers[i]] = test_pred \n",
    "\n",
    "        print(\"train R-squared score : {}\".format(model.score(X_train_s,y_train)))\n",
    "        print(\"test R-squared score : {}\".format(model.score(X_test_s,y_test)))\n",
    "\n",
    "        xtrain = t_model.iloc[1:1016,0]\n",
    "        ytrain = train_pred\n",
    "        xtest = t_model.iloc[1016:,0]\n",
    "        ytest = test_pred \n",
    "        xstock = t_model.iloc[1:,0]\n",
    "        ystock = close.iloc[1:,1]\n",
    "\n",
    "        plt.plot(xstock,ystock,'lightgray',xtrain,ytrain,'blue',xtest,ytest,'orange')\n",
    "        plt.legend([tickers[i],\"Train\",\"Test\"])\n",
    "        plt.show()  \n",
    "    print('--- Saving predictions into csv ---')\n",
    "    df_train.to_csv('../Data-Predictions/close/{}_rfr_train.csv'.format(csv_name),index=False)\n",
    "    df_test.to_csv('../Data-Predictions/close/{}_rfr_test.csv'.format(csv_name),index=False) \n",
    "    print('--- Predictions saved ---')"
   ]
  },
  {
   "cell_type": "code",
   "execution_count": null,
   "metadata": {},
   "outputs": [],
   "source": [
    "# rf classifier for closing price\n",
    "\n",
    "from sklearn.model_selection import cross_val_score\n",
    "from sklearn.pipeline import make_pipeline\n",
    "from sklearn.preprocessing import StandardScaler\n",
    "from sklearn.svm import SVC\n",
    "from sklearn.ensemble import RandomForestClassifier\n",
    "from sklearn.model_selection import KFold\n",
    "from sklearn.model_selection import train_test_split\n",
    "\n",
    "def rf_c_close(t_model,csv_name) : \n",
    "\n",
    "    df_train = pd.DataFrame(t_model.iloc[1:1016,0],columns=['Date'])\n",
    "    df_test = pd.DataFrame(t_model.iloc[1016:,0],columns=['Date']) \n",
    "\n",
    "    for i in range(3) : \n",
    "        X_train, X_test, y_train, y_test = train_test_split(t_model.iloc[1:,1:],up_down.iloc[:,i],test_size=0.15)\n",
    "\n",
    "        scalar = StandardScaler()\n",
    "        X_train_s = scalar.fit_transform(X_train)\n",
    "        X_test_s = scalar.transform(X_test)\n",
    "\n",
    "        model = RandomForestClassifier(n_estimators=100,random_state=42)\n",
    "        model.fit(X_train_s,y_train)\n",
    "        train_pred = model.predict(X_train_s)\n",
    "        test_pred = model.predict(X_test_s)\n",
    "\n",
    "        df_train[tickers[i]] = train_pred\n",
    "        df_test[tickers[i]] = test_pred \n",
    "\n",
    "        print(\"train R-squared score : {}\".format(model.score(X_train_s,y_train)))\n",
    "        print(\"test R-squared score : {}\".format(model.score(X_test_s,y_test)))\n",
    "\n",
    "        xtrain = t_model.iloc[1:1016,0]\n",
    "        ytrain = train_pred\n",
    "        xtest = t_model.iloc[1016:,0]\n",
    "        ytest = test_pred \n",
    "        xstock = t_model.iloc[:,0]\n",
    "        ystock = up_down.iloc[:,1]\n",
    "\n",
    "        plt.plot(xstock,ystock,'lightgray',xtrain,ytrain,'blue',xtest,ytest,'orange')\n",
    "        plt.legend([tickers[i],\"Train\",\"Test\"])\n",
    "        plt.show()  \n",
    "    print('--- Saving predictions into csv ---')\n",
    "    df_train.to_csv('../Data-Predictions/{}_updown_train.csv'.format(csv_name),index=False)\n",
    "    df_test.to_csv('../Data-Predictions/{}_updown_test.csv'.format(csv_name),index=False) \n",
    "    print('--- Predictions saved ---')\n"
   ]
  },
  {
   "cell_type": "code",
   "execution_count": null,
   "metadata": {},
   "outputs": [],
   "source": [
    "# vader\n",
    "rf_r_returns(vader_all_w,'vader_pred_returns')\n"
   ]
  },
  {
   "cell_type": "code",
   "execution_count": null,
   "metadata": {},
   "outputs": [],
   "source": [
    "rf_r_returns(flair_all_w,'flair_pred_returns')"
   ]
  },
  {
   "cell_type": "code",
   "execution_count": null,
   "metadata": {},
   "outputs": [],
   "source": [
    "rf_r_returns(finbert_all_w,'finbert_pred_returns')"
   ]
  },
  {
   "cell_type": "code",
   "execution_count": null,
   "metadata": {},
   "outputs": [],
   "source": [
    "rf_r_close(vader_all_w,'vader_pred_close')"
   ]
  },
  {
   "cell_type": "code",
   "execution_count": null,
   "metadata": {},
   "outputs": [],
   "source": [
    "rf_r_close(flair_all_w,'flair_pred_close')"
   ]
  },
  {
   "cell_type": "code",
   "execution_count": null,
   "metadata": {},
   "outputs": [],
   "source": [
    "rf_r_close(finbert_all_w,'finbert_pred_close')"
   ]
  },
  {
   "cell_type": "code",
   "execution_count": null,
   "metadata": {},
   "outputs": [],
   "source": [
    "rf_c_close(vader_class_w,'vader_pred_close')"
   ]
  },
  {
   "cell_type": "code",
   "execution_count": null,
   "metadata": {},
   "outputs": [],
   "source": [
    "rf_c_close(flair_class_w,'flair_pred_close')"
   ]
  },
  {
   "cell_type": "code",
   "execution_count": null,
   "metadata": {},
   "outputs": [],
   "source": [
    "rf_c_close(finbert_class_w,'vader_pred_close')"
   ]
  }
 ],
 "metadata": {
  "kernelspec": {
   "display_name": "Python 3.10.6 64-bit",
   "language": "python",
   "name": "python3"
  },
  "language_info": {
   "codemirror_mode": {
    "name": "ipython",
    "version": 3
   },
   "file_extension": ".py",
   "mimetype": "text/x-python",
   "name": "python",
   "nbconvert_exporter": "python",
   "pygments_lexer": "ipython3",
   "version": "3.10.6"
  },
  "orig_nbformat": 4,
  "vscode": {
   "interpreter": {
    "hash": "aee8b7b246df8f9039afb4144a1f6fd8d2ca17a180786b69acc140d282b71a49"
   }
  }
 },
 "nbformat": 4,
 "nbformat_minor": 2
}
